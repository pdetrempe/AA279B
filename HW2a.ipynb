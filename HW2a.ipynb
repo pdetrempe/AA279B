{
 "cells": [
  {
   "cell_type": "code",
   "execution_count": 1,
   "metadata": {},
   "outputs": [],
   "source": [
    "using LinearAlgebra\n",
    "using Plots\n",
    "using DifferentialEquations\n",
    "using Roots\n",
    "using OrdinaryDiffEq\n",
    "using BoundaryValueDiffEq"
   ]
  },
  {
   "cell_type": "code",
   "execution_count": 10,
   "metadata": {},
   "outputs": [
    {
     "data": {
      "text/plain": [
       "(398600, 4903, [-4670.877787773573, 0.0, 0.0], [379729.1222122264, 0.0, 0.0], 2.665313601093969e-6)"
      ]
     },
     "execution_count": 10,
     "metadata": {},
     "output_type": "execute_result"
    }
   ],
   "source": [
    "# Problem parameters\n",
    "μₑ = 398600 # [km^3/s^2]\n",
    "μₘ = 4903\n",
    "R = 384400  # Earth-Moon distance [km]\n",
    "\n",
    "R_Earth = 6378 # Earth radius [km]\n",
    "R_Moon = 1738  # Moon radius  [km]\n",
    "h = 200\n",
    "\n",
    "μ₁ = μₑ\n",
    "μ₂ = μₘ\n",
    "\n",
    "# Synodic reference frame parameters\n",
    "R₁ = μ₂/(μ₂+μ₁)*R        # Earth-CM distance\n",
    "R₂ = μ₁/(μ₂+μ₁)*R        # Moon-CM distance\n",
    "r1 = [-R₁; 0; 0]\n",
    "r2 = [ R₂; 0; 0]\n",
    "ωₛ = sqrt((μ₁ + μ₂)/(R^3))\n",
    "\n",
    "params = (μ₁,μ₂,r1,r2,ωₛ)"
   ]
  },
  {
   "cell_type": "code",
   "execution_count": 11,
   "metadata": {},
   "outputs": [
    {
     "data": {
      "text/plain": [
       "6-element Array{Float64,1}:\n",
       " -9097.902229126235\n",
       " -4865.340542620438\n",
       "     0.0\n",
       "     8.07956515432666\n",
       "    -7.351681161960514\n",
       "     0.0"
      ]
     },
     "execution_count": 11,
     "metadata": {},
     "output_type": "execute_result"
    }
   ],
   "source": [
    "# Initial guess\n",
    "v_inj = 10.92367104     # [km/s]\n",
    "ϕ_inj = deg2rad(47.70061087)\n",
    "\n",
    "# Initial conditions (synodic frame)\n",
    "r0 = [-cos(ϕ_inj)*(h+R_Earth)-R₁; -sin(ϕ_inj)*(h+R_Earth); 0] # No z-position/velocity\n",
    "v0 = [v_inj*sin(ϕ_inj); -v_inj*cos(ϕ_inj); 0]\n",
    "x0 = [r0; v0]"
   ]
  },
  {
   "cell_type": "code",
   "execution_count": 12,
   "metadata": {},
   "outputs": [
    {
     "data": {
      "text/plain": [
       "3-element Array{Float64,1}:\n",
       " 321709.22627414274\n",
       "      0.0\n",
       "      0.0"
      ]
     },
     "execution_count": 12,
     "metadata": {},
     "output_type": "execute_result"
    }
   ],
   "source": [
    "# 1a) Find L₁ point\n",
    "f₁(x) = -μ₁*(x-R₂)^2 + μ₂*(x+R₁)^2 + ωₛ^2*abs(x)*(x+R₁)^2*(x-R₂)^2\n",
    "x₁ = find_zero(f₁, .5*R)\n",
    "L₁ = [x₁; 0; 0]"
   ]
  },
  {
   "cell_type": "code",
   "execution_count": 39,
   "metadata": {},
   "outputs": [
    {
     "data": {
      "text/plain": [
       "bc_L1 (generic function with 1 method)"
      ]
     },
     "execution_count": 39,
     "metadata": {},
     "output_type": "execute_result"
    }
   ],
   "source": [
    "# 1b) Use a fixed-time, single-shoot method to hit L₁\n",
    "t_final = 3*24*3600\n",
    "\n",
    "# Let's play around with BVPs and Shooting Methods in DifferentialEquations\n",
    "function CR3BP_EOM(x, t, dx)\n",
    "    ω_vec = [0;0;1]*ωₛ\n",
    "    r3 = x[1:3]\n",
    "    velocity = x[4:6]\n",
    "\n",
    "    r13 = r3-r1\n",
    "    r23 = r3-r2\n",
    "\n",
    "    acceleration = -μ₁*r13/norm(r13)^3 -μ₂*r23/norm(r23)^3 -    # gravity\n",
    "                    cross(ω_vec, cross(ω_vec, r3)) -            # centripetal\n",
    "                    2*cross(ω_vec, velocity)                    # coriolis\n",
    "\n",
    "    dx[1:3] = velocity\n",
    "    dx[4:6] = acceleration\n",
    "end\n",
    "\n",
    "function bc_L1(residual, u)\n",
    "    residual[1] = u[end][1] - L₁[1]\n",
    "    residual[2] = u[end][2] - L₁[2]\n",
    "    residual[3] = u[end][3] - L₁[3]\n",
    "end\n",
    "\n"
   ]
  },
  {
   "cell_type": "code",
   "execution_count": 40,
   "metadata": {},
   "outputs": [
    {
     "ename": "MethodError",
     "evalue": "MethodError: objects of type Array{Float64,1} are not callable\nUse square brackets [] for indexing an Array.",
     "output_type": "error",
     "traceback": [
      "MethodError: objects of type Array{Float64,1} are not callable\nUse square brackets [] for indexing an Array.",
      "",
      "Stacktrace:",
      " [1] iterate at ./generator.jl:47 [inlined]",
      " [2] collect(::Base.Generator{Array{Int64,1},Array{Float64,1}}) at ./array.jl:665",
      " [3] BVProblem(::Function, ::Function, ::Array{Float64,1}, ::Array{Int64,1}, ::DiffEqBase.NullParameters; kwargs::Base.Iterators.Pairs{Union{},Union{},Tuple{},NamedTuple{(),Tuple{}}}) at /home/pdetrempe/.juliapro/JuliaPro_v1.4.2-1/packages/DiffEqBase/T5smF/src/problems/bvp_problems.jl:48",
      " [4] BVProblem(::Function, ::Function, ::Array{Float64,1}, ::Array{Int64,1}, ::DiffEqBase.NullParameters) at /home/pdetrempe/.juliapro/JuliaPro_v1.4.2-1/packages/DiffEqBase/T5smF/src/problems/bvp_problems.jl:48 (repeats 2 times)",
      " [5] top-level scope at In[40]:1"
     ]
    }
   ],
   "source": [
    "bvp = BVProblem(CR3BP_EOM, bc_L1, x0, [0;t_final])"
   ]
  },
  {
   "cell_type": "code",
   "execution_count": null,
   "metadata": {},
   "outputs": [],
   "source": []
  }
 ],
 "metadata": {
  "kernelspec": {
   "display_name": "JuliaPro_v1.4.2-1 1.4.2",
   "language": "julia",
   "name": "juliapro_v1.4.2-1-1.4"
  },
  "language_info": {
   "file_extension": ".jl",
   "mimetype": "application/julia",
   "name": "julia",
   "version": "1.4.2"
  }
 },
 "nbformat": 4,
 "nbformat_minor": 4
}
