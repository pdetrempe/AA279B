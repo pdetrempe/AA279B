{
 "cells": [
  {
   "cell_type": "code",
   "execution_count": 9,
   "metadata": {},
   "outputs": [
    {
     "ename": "ArgumentError",
     "evalue": "ArgumentError: Package OrdinaryDiffEq not found in current path:\n- Run `import Pkg; Pkg.add(\"OrdinaryDiffEq\")` to install the OrdinaryDiffEq package.\n",
     "output_type": "error",
     "traceback": [
      "ArgumentError: Package OrdinaryDiffEq not found in current path:\n- Run `import Pkg; Pkg.add(\"OrdinaryDiffEq\")` to install the OrdinaryDiffEq package.\n",
      "",
      "Stacktrace:",
      " [1] require(::Module, ::Symbol) at ./loading.jl:892",
      " [2] top-level scope at In[9]:5"
     ]
    }
   ],
   "source": [
    "using LinearAlgebra\n",
    "using Plots\n",
    "using DifferentialEquations\n",
    "using Roots\n",
    "using OrdinaryDiffEq"
   ]
  },
  {
   "cell_type": "code",
   "execution_count": 6,
   "metadata": {},
   "outputs": [
    {
     "data": {
      "text/plain": [
       "2.665313601093969e-6"
      ]
     },
     "execution_count": 6,
     "metadata": {},
     "output_type": "execute_result"
    }
   ],
   "source": [
    "# Problem parameters\n",
    "μₑ = 398600 # [km^3/s^2]\n",
    "μₘ = 4903\n",
    "R = 384400  # Earth-Moon distance [km]\n",
    "\n",
    "R_Earth = 6378 # Earth radius [km]\n",
    "R_Moon = 1738  # Moon radius  [km]\n",
    "h = 200\n",
    "\n",
    "μ₁ = μₑ\n",
    "μ₂ = μₘ\n",
    "\n",
    "# Synodic reference frame parameters\n",
    "R₁ = μ₂/(μ₂+μ₁)*R        # Earth-CM distance\n",
    "R₂ = μ₁/(μ₂+μ₁)*R        # Moon-CM distance\n",
    "r1 = [-R₁; 0; 0]\n",
    "r2 = [ R₂; 0; 0]\n",
    "ωₛ = sqrt((μ₁ + μ₂)/(R^3))"
   ]
  },
  {
   "cell_type": "code",
   "execution_count": 7,
   "metadata": {},
   "outputs": [
    {
     "data": {
      "text/plain": [
       "6-element Array{Float64,1}:\n",
       " -9097.902229126235\n",
       " -4865.340542620438\n",
       "     0.0\n",
       "     8.07956515432666\n",
       "    -7.351681161960514\n",
       "     0.0"
      ]
     },
     "execution_count": 7,
     "metadata": {},
     "output_type": "execute_result"
    }
   ],
   "source": [
    "# Initial guess\n",
    "v_inj = 10.92367104     # [km/s]\n",
    "ϕ_inj = deg2rad(47.70061087)\n",
    "\n",
    "# Initial conditions (synodic frame)\n",
    "r0 = [-cos(ϕ_inj)*(h+R_Earth)-R₁; -sin(ϕ_inj)*(h+R_Earth); 0] # No z-position/velocity\n",
    "v0 = [v_inj*sin(ϕ_inj); -v_inj*cos(ϕ_inj); 0]\n",
    "x0 = [r0; v0]"
   ]
  },
  {
   "cell_type": "code",
   "execution_count": 8,
   "metadata": {},
   "outputs": [
    {
     "data": {
      "text/plain": [
       "3-element Array{Float64,1}:\n",
       " 321709.22627414274\n",
       "      0.0\n",
       "      0.0"
      ]
     },
     "execution_count": 8,
     "metadata": {},
     "output_type": "execute_result"
    }
   ],
   "source": [
    "# 1a) Find L₁ point\n",
    "f₁(x) = -μ₁*(x-R₂)^2 + μ₂*(x+R₁)^2 + ωₛ^2*abs(x)*(x+R₁)^2*(x-R₂)^2\n",
    "x₁ = find_zero(f₁, .5*R)\n",
    "L₁ = [x₁; 0; 0]"
   ]
  },
  {
   "cell_type": "code",
   "execution_count": null,
   "metadata": {},
   "outputs": [],
   "source": [
    "# 1b) Use a fixed-time, single-shoot method to hit L₁\n",
    "t_final = 3*24*3600\n",
    "\n",
    "# Let's play around with BVPs and Shooting Methods in DifferentialEquations"
   ]
  }
 ],
 "metadata": {
  "kernelspec": {
   "display_name": "JuliaPro_v1.4.2-1 1.4.2",
   "language": "julia",
   "name": "juliapro_v1.4.2-1-1.4"
  },
  "language_info": {
   "file_extension": ".jl",
   "mimetype": "application/julia",
   "name": "julia",
   "version": "1.4.2"
  }
 },
 "nbformat": 4,
 "nbformat_minor": 4
}
