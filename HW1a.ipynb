{
 "cells": [
  {
   "cell_type": "code",
   "execution_count": 1,
   "metadata": {},
   "outputs": [
    {
     "data": {
      "text/plain": [
       "2.665310298373478e-6"
      ]
     },
     "execution_count": 1,
     "metadata": {},
     "output_type": "execute_result"
    }
   ],
   "source": [
    "using Roots\n",
    "using LinearAlgebra\n",
    "using Plots\n",
    "using DifferentialEquations\n",
    "\n",
    "μₑ = 398600 # [km^3/s^2]\n",
    "μₘ = 4902\n",
    "R = 384400 # Earth-Moon distance [km]\n",
    "\n",
    "μ₁ = μₑ\n",
    "μ₂ = μₘ\n",
    "\n",
    "# Synodic reference frame parameters\n",
    "R₁ = μ₂/(μ₂+μ₁)*R   # Earth-CM distance\n",
    "R₂ = R - R₁         # Moon-CM distance\n",
    "ωₛ = sqrt((μ₁ + μ₂)/R^3)\n"
   ]
  },
  {
   "cell_type": "code",
   "execution_count": null,
   "metadata": {},
   "outputs": [],
   "source": [
    "# L₄ and L₅ Lagrange points\n",
    "L₄ = [-R₁ + R/2; √3/2*R; 0]\n",
    "L₅ = [-R₁ + R/2; -√3/2*R; 0]\n",
    "print(L₄)\n",
    "print(L₅)"
   ]
  },
  {
   "cell_type": "code",
   "execution_count": null,
   "metadata": {},
   "outputs": [],
   "source": [
    "# Find L₁ and L₂\n",
    "f₁(x) = -μ₁*(x-R₂)^2 + μ₂*(x+R₁)^2 + ωₛ^2*abs(x)*(x+R₁)^2*(x-R₂)^2\n",
    "f₂(x) = -μ₁*(x-R₂)^2 - μ₂*(x+R₁)^2 + ωₛ^2*abs(x)*(x+R₁)^2*(x-R₂)^2\n",
    "f₃(x) =  μ₁*(x-R₂)^2 + μ₂*(x+R₁)^2 - ωₛ^2*abs(x)*(x+R₁)^2*(x-R₂)^2\n",
    "\n",
    "x₁ = find_zero(f₁, .5*R)\n",
    "x₂ = find_zero(f₂, 1.5*R)\n",
    "x₃ = find_zero(f₃, -R)\n",
    "\n",
    "L₁ = [x₁; 0; 0]\n",
    "L₂ = [x₂; 0; 0]\n",
    "L₃ = [x₃; 0; 0]\n",
    "print(L₁, L₂, L₃)\n"
   ]
  },
  {
   "cell_type": "code",
   "execution_count": null,
   "metadata": {},
   "outputs": [],
   "source": [
    "# Calculate effective potential energy and plot contours# Calculate effective potential energy and plot contours\n",
    "r₁ = [-R₁; 0; 0]\n",
    "r₂ = [ R₂; 0; 0]\n",
    "PE(r₃) = -μ₁/norm(r₃-r₁) -μ₂/norm(r₃-r₂) - .5*(ωₛ^2)*(r₃[1]^2 + r₃[2]^2)\n",
    "\n",
    "num_points = 1000\n",
    "points = [range(-1.25*R, stop = -.01*R, length = num_points); range(.01*R, stop = 1.25*R, length = num_points)]\n",
    "\n",
    "PE_eff = [PE([point_x; point_y; 0]) for point_x in points, point_y in points]\n",
    "p1 = contour(points, points, PE_eff, fill=true, levels=-1.67:.01:-1.57, xlabel='X', ylabel='Y')\n",
    "\n",
    "r₁ = [-R₁; 0; 0]\n",
    "r₂ = [ R₂; 0; 0]\n",
    "PE(r₃) = -μ₁/norm(r₃-r₁) -μ₂/norm(r₃-r₂) - .5*(ωₛ^2)*(r₃[1]^2 + r₃[2]^2)\n",
    "\n",
    "num_points = 1000\n",
    "points = [range(-1.25*R, stop = -.01*R, length = num_points); range(.01*R, stop = 1.25*R, length = num_points)]\n",
    "\n",
    "PE_eff = [PE([point_x; point_y; 0]) for point_x in points, point_y in points]\n",
    "p1 = contour(points, points, PE_eff, fill=true, levels=-1.67:.01:-1.57, xlabel='X', ylabel='Y')\n",
    "# Calculate effective potential energy and plot contours\n",
    "r₁ = [-R₁; 0; 0]\n",
    "r₂ = [ R₂; 0; 0]\n",
    "PE(r₃) = -μ₁/norm(r₃-r₁) -μ₂/norm(r₃-r₂) - .5*(ωₛ^2)*(r₃[1]^2 + r₃[2]^2)\n",
    "\n",
    "num_points = 1000\n",
    "points = [range(-1.25*R, stop = -.01*R, length = num_points); range(.01*R, stop = 1.25*R, length = num_points)]\n",
    "\n",
    "PE_eff = [PE([point_x; point_y; 0]) for point_x in points, point_y in points]\n",
    "p1 = contour(points, points, PE_eff, fill=true, levels=-1.67:.01:-1.57, xlabel='X', ylabel='Y')\n",
    "# Calculate effective potential energy and plot contours\n",
    "r₁ = [-R₁; 0; 0]\n",
    "r₂ = [ R₂; 0; 0]\n",
    "PE(r₃) = -μ₁/norm(r₃-r₁) -μ₂/norm(r₃-r₂) - .5*(ωₛ^2)*(r₃[1]^2 + r₃[2]^2)\n",
    "\n",
    "num_points = 1000\n",
    "points = [range(-1.25*R, stop = -.01*R, length = num_points); range(.01*R, stop = 1.25*R, length = num_points)]\n",
    "\n",
    "PE_eff = [PE([point_x; point_y; 0]) for point_x in points, point_y in points]\n",
    "p1 = contour(points, points, PE_eff, fill=true, levels=-1.67:.01:-1.57, xlabel='X', ylabel='Y')\n",
    "# Calculate effective potential energy and plot contours\n",
    "r₁ = [-R₁; 0; 0]\n",
    "r₂ = [ R₂; 0; 0]\n",
    "PE(r₃) = -μ₁/norm(r₃-r₁) -μ₂/norm(r₃-r₂) - .5*(ωₛ^2)*(r₃[1]^2 + r₃[2]^2)\n",
    "\n",
    "num_points = 1000\n",
    "points = [range(-1.25*R, stop = -.01*R, length = num_points); range(.01*R, stop = 1.25*R, length = num_points)]\n",
    "\n",
    "PE_eff = [PE([point_x; point_y; 0]) for point_x in points, point_y in points]\n",
    "p1 = contour(points, points, PE_eff, fill=true, levels=-1.67:.01:-1.57, xlabel='X', ylabel='Y')\n"
   ]
  },
  {
   "cell_type": "code",
   "execution_count": null,
   "metadata": {},
   "outputs": [],
   "source": [
    "# Calculate effective potential energy and plot contours# Calculate effective potential energy and plot contours\n",
    "r₁ = [-R₁; 0; 0]\n",
    "r₂ = [ R₂; 0; 0]\n",
    "PE(r₃) = -μ₁/norm(r₃-r₁) -μ₂/norm(r₃-r₂) - .5*(ωₛ^2)*(r₃[1]^2 + r₃[2]^2)\n",
    "\n",
    "num_points = 1000\n",
    "points = [range(-1.25*R, stop = -.01*R, length = num_points); range(.01*R, stop = 1.25*R, length = num_points)]\n",
    "\n",
    "PE_eff = [PE([point_x; point_y; 0]) for point_x in points, point_y in points]\n",
    "p1 = contour(points, points, PE_eff, fill=true, levels=-1.67:.01:-1.57, xlabel='X', ylabel='Y')\n",
    "\n",
    "r₁ = [-R₁; 0; 0]\n",
    "r₂ = [ R₂; 0; 0]\n",
    "PE(r₃) = -μ₁/norm(r₃-r₁) -μ₂/norm(r₃-r₂) - .5*(ωₛ^2)*(r₃[1]^2 + r₃[2]^2)\n",
    "\n",
    "num_points = 1000\n",
    "points = [range(-1.25*R, stop = -.01*R, length = num_points); range(.01*R, stop = 1.25*R, length = num_points)]\n",
    "\n",
    "PE_eff = [PE([point_x; point_y; 0]) for point_x in points, point_y in points]\n",
    "p1 = contour(points, points, PE_eff, fill=true, levels=-1.67:.01:-1.57, xlabel='X', ylabel='Y')\n"
   ]
  }
 ],
 "metadata": {
  "kernelspec": {
   "display_name": "JuliaPro_v1.4.2-1 1.4.2",
   "language": "julia",
   "name": "juliapro_v1.4.2-1-1.4"
  },
  "language_info": {
   "file_extension": ".jl",
   "mimetype": "application/julia",
   "name": "julia",
   "version": "1.4.2"
  }
 },
 "nbformat": 4,
 "nbformat_minor": 4
}
